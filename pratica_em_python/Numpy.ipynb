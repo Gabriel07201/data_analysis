{
 "cells": [
  {
   "cell_type": "code",
   "execution_count": 2,
   "metadata": {},
   "outputs": [],
   "source": [
    "import numpy as np"
   ]
  },
  {
   "cell_type": "code",
   "execution_count": 3,
   "metadata": {},
   "outputs": [
    {
     "name": "stdout",
     "output_type": "stream",
     "text": [
      "[12 34 26 10 10]\n",
      "<class 'module'>\n"
     ]
    }
   ],
   "source": [
    "# cria uma matriz unidimensional\n",
    "mt = np.array([12, 34, 26, 10, 10])\n",
    "print(mt)\n",
    "print(type(np))"
   ]
  },
  {
   "cell_type": "code",
   "execution_count": 4,
   "metadata": {},
   "outputs": [
    {
     "name": "stdout",
     "output_type": "stream",
     "text": [
      "[1. 2. 3.]\n",
      "<class 'numpy.ndarray'>\n",
      "[1 2 3]\n",
      "<class 'numpy.ndarray'>\n"
     ]
    }
   ],
   "source": [
    "# criando um array com um tipos específicos\n",
    "mtfloat = np.array([1, 2, 3], dtype= np.float64)\n",
    "print(mtfloat)\n",
    "print(type(mtfloat))\n",
    "mtint = np.array([1, 2, 3], dtype= np.int32)\n",
    "print(mtint)\n",
    "print(type(mtint))"
   ]
  },
  {
   "cell_type": "code",
   "execution_count": 5,
   "metadata": {},
   "outputs": [
    {
     "name": "stdout",
     "output_type": "stream",
     "text": [
      "[1.4       2.6       3.77      4.9999999]\n",
      "[1 2 3 4]\n"
     ]
    }
   ],
   "source": [
    "# mudar o tipo do array\n",
    "mtnew = np.array([1.4, 2.6, 3.77, 4.9999999])\n",
    "print(mtnew)\n",
    "mtnewint = mtnew.astype(np.int32)\n",
    "print(mtnewint)\n"
   ]
  },
  {
   "cell_type": "code",
   "execution_count": 6,
   "metadata": {},
   "outputs": [
    {
     "name": "stdout",
     "output_type": "stream",
     "text": [
      "[1 2 3 4]\n",
      "[1. 2. 3. 4.]\n"
     ]
    }
   ],
   "source": [
    "mt5 = np.array([1, 2, 3, 4])\n",
    "print(mt5)\n",
    "mt6 = mt5.astype(float)\n",
    "print(mt6)"
   ]
  },
  {
   "cell_type": "code",
   "execution_count": 7,
   "metadata": {},
   "outputs": [
    {
     "name": "stdout",
     "output_type": "stream",
     "text": [
      "[[ 7  2 23]\n",
      " [12 27 35]\n",
      " [15 18 19]]\n"
     ]
    }
   ],
   "source": [
    "# elemento bidimensional\n",
    "mt7 = np.array([[7, 2, 23], [12, 27, 35], [15, 18, 19]])\n",
    "print(mt7)"
   ]
  },
  {
   "cell_type": "code",
   "execution_count": 8,
   "metadata": {},
   "outputs": [
    {
     "name": "stdout",
     "output_type": "stream",
     "text": [
      "[[         0 1072693248]\n",
      " [         0 1073741824]\n",
      " [         0 1074266112]]\n",
      "-----\n",
      "[[0. 0. 0.]\n",
      " [0. 0. 0.]\n",
      " [0. 0. 0.]\n",
      " [0. 0. 0.]]\n",
      "-----\n",
      "[[1. 1. 1. 1. 1. 1. 1.]\n",
      " [1. 1. 1. 1. 1. 1. 1.]\n",
      " [1. 1. 1. 1. 1. 1. 1.]\n",
      " [1. 1. 1. 1. 1. 1. 1.]\n",
      " [1. 1. 1. 1. 1. 1. 1.]]\n",
      "-----\n",
      "[[1. 0. 0. 0. 0.]\n",
      " [0. 1. 0. 0. 0.]\n",
      " [0. 0. 1. 0. 0.]\n",
      " [0. 0. 0. 1. 0.]\n",
      " [0. 0. 0. 0. 1.]]\n"
     ]
    }
   ],
   "source": [
    "# criando array que não vai ser inicializado\n",
    "vazio = np.empty([3, 2], dtype= int)\n",
    "print(vazio)\n",
    "print('-----')\n",
    "# criando matriz 4x3 com valores 0\n",
    "zeros = np.zeros([4, 3])\n",
    "print(zeros)\n",
    "print('-----')\n",
    "# com valores 1\n",
    "um = np.ones([5, 7])\n",
    "print(um)\n",
    "print('-----')\n",
    "# matriz quadrada com diagonal com valores 1 e os outros 0\n",
    "diagonal = np.eye(5)\n",
    "print(diagonal)"
   ]
  },
  {
   "cell_type": "code",
   "execution_count": 9,
   "metadata": {},
   "outputs": [
    {
     "name": "stdout",
     "output_type": "stream",
     "text": [
      "[0.99421519 0.19346196 0.81497027 0.00480379 0.9032742 ]\n",
      "-------\n",
      "[ 1.25611015 -2.3180095  -0.6067848   0.4523383   0.4574361 ]\n",
      "-----\n",
      "[[0.35528126 0.83679415 0.76200404 0.26364365]\n",
      " [0.06665868 0.96385195 0.91997981 0.67623559]\n",
      " [0.40599447 0.37090465 0.57913067 0.06907103]]\n"
     ]
    }
   ],
   "source": [
    "# gerando valores aleatórios\n",
    "# valores aleatório entre 1 e 0\n",
    "ale = np.random.random((5))\n",
    "print(ale)\n",
    "print('-------')\n",
    "# valores aleatórios com dist. normal, contendo número negativos\n",
    "ale2 = np.random.randn((5))\n",
    "print(ale2)\n",
    "print('-----')\n",
    "# valores alea. em 3x4\n",
    "ale3 = np.random.random((3, 4))\n",
    "print(ale3)\n"
   ]
  },
  {
   "cell_type": "code",
   "execution_count": 12,
   "metadata": {},
   "outputs": [
    {
     "name": "stdout",
     "output_type": "stream",
     "text": [
      "[0.51182162 0.9504637  0.14415961]\n",
      "----\n",
      "[[8 9 2 3]\n",
      " [8 4 2 8]\n",
      " [2 4 6 5]]\n"
     ]
    }
   ],
   "source": [
    "# outra forma de gerar número aleatórios\n",
    "# usando uma semente\n",
    "gnr = np.random.default_rng(1)\n",
    "ale4 = gnr.random(3)\n",
    "print(ale4)\n",
    "print('----')\n",
    "# gerando inteiros\n",
    "ale5 = gnr.integers(10, size= (3,4)) # número inteiros até 10, com a matriz de 3x4\n",
    "print(ale5)\n"
   ]
  },
  {
   "cell_type": "code",
   "execution_count": 14,
   "metadata": {},
   "outputs": [
    {
     "name": "stdout",
     "output_type": "stream",
     "text": [
      "[11 12 13 14 15 16 17 18 19 20]\n"
     ]
    }
   ],
   "source": [
    "# removendo repetições\n",
    "j = np.array([11, 12, 13, 14, 15, 16, 17, 12, 13, 11, 18, 19, 20])\n",
    "j = np.unique(j)\n",
    "print(j)\n"
   ]
  },
  {
   "cell_type": "code",
   "execution_count": 15,
   "metadata": {},
   "outputs": [
    {
     "name": "stdout",
     "output_type": "stream",
     "text": [
      "[[17 22 43]\n",
      " [27 25 14]\n",
      " [15 24 32]]\n",
      "---\n",
      "22\n",
      "---\n",
      "(3, 3)\n"
     ]
    }
   ],
   "source": [
    "# alguns usos de funções\n",
    "k = np.array([[17, 22, 43], [27, 25, 14], [15, 24, 32]])\n",
    "print(k)\n",
    "print('---')\n",
    "print(k[0][1])\n",
    "print('---')\n",
    "print(k.shape) # mostra as dimensões da matriz"
   ]
  },
  {
   "cell_type": "code",
   "execution_count": 17,
   "metadata": {},
   "outputs": [
    {
     "name": "stdout",
     "output_type": "stream",
     "text": [
      "43\n",
      "14\n",
      "219\n",
      "24.333333333333332\n",
      "8.615231988880057\n",
      "[[4.12310563 4.69041576 6.55743852]\n",
      " [5.19615242 5.         3.74165739]\n",
      " [3.87298335 4.89897949 5.65685425]]\n",
      "[[2.41549528e+07 3.58491285e+09 4.72783947e+18]\n",
      " [5.32048241e+11 7.20048993e+10 1.20260428e+06]\n",
      " [3.26901737e+06 2.64891221e+10 7.89629602e+13]]\n"
     ]
    }
   ],
   "source": [
    "# funções matemáticas\n",
    "print(k.max()) # máximo\n",
    "print(k.min()) # mínimo\n",
    "print(k.sum()) # soma\n",
    "print(k.mean()) # média\n",
    "print(k.std()) # desvio padrão\n",
    "print(np.sqrt(k)) # raiz quadrada\n",
    "print(np.exp(k)) # exponencial"
   ]
  },
  {
   "cell_type": "code",
   "execution_count": 19,
   "metadata": {},
   "outputs": [
    {
     "name": "stdout",
     "output_type": "stream",
     "text": [
      "2\n",
      "[1 2]\n",
      "[2 3 4 5 6]\n",
      "[4 5 6]\n"
     ]
    }
   ],
   "source": [
    "# extraindo elementos\n",
    "m = np.array([1, 2, 3, 4, 5, 6])\n",
    "print(m[1]) # mostra o elento na posição 2\n",
    "print(m[0:2]) # mostra os elentos a partir da primeira posição, com dois elementos\n",
    "print(m[1:]) # mostra do elemento 2 até o fim\n",
    "print(m[-3:]) # mostra da antepenúltima posição até a o final"
   ]
  },
  {
   "cell_type": "code",
   "execution_count": 20,
   "metadata": {},
   "outputs": [
    {
     "name": "stdout",
     "output_type": "stream",
     "text": [
      "[[5 6]\n",
      " [6 1]\n",
      " [7 4]]\n",
      "---\n",
      "[5 6]\n",
      "---\n",
      "[5 6 7]\n"
     ]
    }
   ],
   "source": [
    "# extração de linhas e colunas\n",
    "l = np.array([[5, 6], [6, 1], [7, 4]])\n",
    "print(l)\n",
    "print('---')\n",
    "l_linha_1 = l[0, :] # primeira linha e todas as colunas. # a mesma lógica pode ser seguida para outras linhas\n",
    "print(l_linha_1)\n",
    "print('---')\n",
    "l_coluna_1 = l[:, 0] #todas e linhas e a primeira coluna. # a mesma lógica pode ser seguida para outras linhas\n",
    "print(l_coluna_1)\n"
   ]
  },
  {
   "cell_type": "code",
   "execution_count": 21,
   "metadata": {},
   "outputs": [
    {
     "name": "stdout",
     "output_type": "stream",
     "text": [
      "[[2 3]\n",
      " [4 5]]\n",
      "----\n",
      "[[1 2]\n",
      " [3 4]]\n",
      "----\n"
     ]
    }
   ],
   "source": [
    "# adição e multiplicação de matrizes, divisão e outras funções\n",
    "n = np.array([[1, 2], [3, 4]])\n",
    "o = np.array([[1, 1], [1, 1]])\n",
    "soma = n + o\n",
    "print(soma)\n",
    "print('----')\n",
    "mult = n * o\n",
    "print(mult)\n",
    "print('----')\n",
    "# funciona mesmo com matrizes de formatos diferentes"
   ]
  },
  {
   "cell_type": "code",
   "execution_count": 22,
   "metadata": {},
   "outputs": [
    {
     "name": "stdout",
     "output_type": "stream",
     "text": [
      "[[ 0  1  2  3  4]\n",
      " [ 5  6  7  8  9]\n",
      " [10 11 12 13 14]]\n",
      "[[ 0  5 10]\n",
      " [ 1  6 11]\n",
      " [ 2  7 12]\n",
      " [ 3  8 13]\n",
      " [ 4  9 14]]\n"
     ]
    }
   ],
   "source": [
    "# fazendo transposição \n",
    "f = np.arange(15).reshape((3, 5))\n",
    "print(f)\n",
    "s = f.T\n",
    "print(s)\n"
   ]
  },
  {
   "cell_type": "code",
   "execution_count": 23,
   "metadata": {},
   "outputs": [
    {
     "name": "stdout",
     "output_type": "stream",
     "text": [
      "[[ 0  5 10]\n",
      " [ 1  6 11]\n",
      " [ 2  7 12]\n",
      " [ 3  8 13]\n",
      " [ 4  9 14]]\n"
     ]
    }
   ],
   "source": [
    "# outra forma de fazer transposição\n",
    "s = np.transpose(f)\n",
    "print(s)"
   ]
  },
  {
   "cell_type": "code",
   "execution_count": 25,
   "metadata": {},
   "outputs": [
    {
     "name": "stdout",
     "output_type": "stream",
     "text": [
      "[[-1.32163838  0.39997209  0.92766514 -0.97497571]\n",
      " [ 0.93858649  0.28595336 -0.99887958 -1.54892303]\n",
      " [ 0.08564162  1.87399702 -1.83772542  0.56707589]\n",
      " [-0.60741462  0.82487552  0.03640248  0.30544795]]\n",
      "---\n",
      "[[False  True  True False]\n",
      " [ True  True False False]\n",
      " [ True  True False  True]\n",
      " [False  True  True  True]]\n",
      "---\n",
      "[[-1  1  1 -1]\n",
      " [ 1  1 -1 -1]\n",
      " [ 1  1 -1  1]\n",
      " [-1  1  1  1]]\n"
     ]
    }
   ],
   "source": [
    "# expressões lógicas\n",
    "v = np.random.randn(4, 4)\n",
    "print(v)\n",
    "print('---')\n",
    "x = (v > 0) # realiza a verificação e devolve em True or False\n",
    "print(x)\n",
    "print('---')\n",
    "z = np.where(v > 0, 1, -1) # faz a mesma coisa que no x, porém ele retorna o valor que eu defini.\n",
    "print(z)"
   ]
  },
  {
   "cell_type": "code",
   "execution_count": null,
   "metadata": {},
   "outputs": [],
   "source": []
  }
 ],
 "metadata": {
  "kernelspec": {
   "display_name": "Python 3.10.2 64-bit",
   "language": "python",
   "name": "python3"
  },
  "language_info": {
   "codemirror_mode": {
    "name": "ipython",
    "version": 3
   },
   "file_extension": ".py",
   "mimetype": "text/x-python",
   "name": "python",
   "nbconvert_exporter": "python",
   "pygments_lexer": "ipython3",
   "version": "3.10.2"
  },
  "orig_nbformat": 4,
  "vscode": {
   "interpreter": {
    "hash": "f3d558277e1468fbd6155e81dfccdb965f1cd2a6d9d32bde37de1e4b5da945bd"
   }
  }
 },
 "nbformat": 4,
 "nbformat_minor": 2
}
